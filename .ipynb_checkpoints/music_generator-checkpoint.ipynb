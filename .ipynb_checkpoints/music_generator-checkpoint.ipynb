{
 "cells": [
  {
   "cell_type": "markdown",
   "id": "cd450c83",
   "metadata": {},
   "source": [
    "## RNN-Music-Generator for music in ABC Notation"
   ]
  },
  {
   "cell_type": "markdown",
   "id": "bca48ad1",
   "metadata": {},
   "source": [
    "<p>\n",
    "    This is a small project exploring the functionalities of recurrent neural networks (RNNs). We will use RNNs to learn\n",
    "    patterns from raw sheet music written in ABC notation, and then use the trained model to generate (i.e. predict) new pieces\n",
    "    of music based on this learned information.\n",
    "    <br><br>\n",
    "    To accomplish this, we input a sequence of characters into the model and train the model to predict the output, i.e., the\n",
    "    next character at each time step. RNNs maintain an internal state that depends on previously seen elements, so information\n",
    "    about all characters seen up to a given time is taken into account when generating the prediction.\n",
    "    <br><br>\n",
    "    This notebook will show how to achieve this task in a simple way. If you need more information about the implementation, you\n",
    "    will have to refer to the file \"utils.py\" imported here.\n",
    "    <br><br>\n",
    "    FYI: This project was written on a Windows machine with a Linux subsystem. This is due to the programs used to convert songs \n",
    "    in ABC notation. If you are using a Linux-based machine, you may need to delete the \"wsl\" commands in the .wav creation.   \n",
    "</p>"
   ]
  },
  {
   "cell_type": "markdown",
   "id": "bb3bffc0",
   "metadata": {},
   "source": [
    "### Import necessary dependencies"
   ]
  },
  {
   "cell_type": "code",
   "execution_count": 1,
   "id": "ac093e17",
   "metadata": {},
   "outputs": [],
   "source": [
    "import tensorflow as tf\n",
    "import utils\n",
    "import os"
   ]
  },
  {
   "cell_type": "markdown",
   "id": "c08734c6",
   "metadata": {},
   "source": [
    "### About the available datasets\n",
    "\n",
    "<p>\n",
    "    This project provides various datasets consisting of different songs represented in ABC notation. However, you can use any \n",
    "    type of music dataset if it is written in this notation. Just upload it to the data folder and use the \"utils.load_data()\" \n",
    "    function below. You can also find more information about this notation here:\n",
    "    <br>\n",
    "    <ul>\n",
    "    <li><a href=\"https://en.wikipedia.org/wiki/ABC_notation\">Wikipedia - ABC-notation</a></li>\n",
    "    <li><a href=\"https://abcnotation.com/\">abcnotation.com</a></li>\n",
    "    </ul>\n",
    "</p>"
   ]
  },
  {
   "cell_type": "markdown",
   "id": "6eda38ef",
   "metadata": {},
   "source": [
    "<p>\n",
    "    Here are some links to sources of the collected .abc music records:\n",
    "    <ul>\n",
    "      <li><a href =\"https://www.norbeck.nu/abc/\">Henrik Norbeck's ABC Tunes</a></li>\n",
    "      <li><a href =\"http://tradfrance.com/aaa/index.php/musique-traditionnelle-de-france/\">Musique traditionnelle de France</a></li>\n",
    "      <li><a href =\"https://math.dartmouth.edu/~doyle/docs/waugh/\">Fiddle Tunes from Bernie Waugh</a></li>\n",
    "    </ul>\n",
    "</p>"
   ]
  },
  {
   "cell_type": "markdown",
   "id": "3872b67f",
   "metadata": {},
   "source": [
    "<p>\n",
    "    And these are the already existing datasets inside the data folder that can be used:\n",
    "    <br>\n",
    "    <ul>\n",
    "        <li>american-canadian</li>\n",
    "        <li>celtic-british</li>\n",
    "        <li>france</li>\n",
    "        <li>irish</li>\n",
    "        <li>jigs</li>\n",
    "    </ul>\n",
    "    \n",
    "</p>"
   ]
  },
  {
   "cell_type": "code",
   "execution_count": 2,
   "id": "53db9731",
   "metadata": {},
   "outputs": [
    {
     "name": "stdout",
     "output_type": "stream",
     "text": [
      "There are 817 songs in the \"irish\" dataset.\n"
     ]
    }
   ],
   "source": [
    "# Enter one of the names of the datasets above:\n",
    "\n",
    "abc_song_data = utils.load_data('irish')"
   ]
  },
  {
   "cell_type": "code",
   "execution_count": 3,
   "id": "a88b77ad",
   "metadata": {
    "scrolled": false
   },
   "outputs": [
    {
     "name": "stdout",
     "output_type": "stream",
     "text": [
      "X:1\n",
      "T:Alexander's\n",
      "Z: id:dc-hornpipe-1\n",
      "M:C|\n",
      "L:1/8\n",
      "K:D Major\n",
      "(3ABc|dAFA DFAd|fdcd FAdf|gfge fefd|(3efe (3dcB A2 (3ABc|!\n",
      "dAFA DFAd|fdcd FAdf|gfge fefd|(3efe dc d2:|!\n",
      "AG|FAdA FAdA|GBdB GBdB|Acec Acec|dfaf gecA|!\n",
      "FAdA FAdA|GBdB GBdB|Aceg fefd|(3efe dc d2:|!\n"
     ]
    }
   ],
   "source": [
    "# For example this is what a song looks like\n",
    "\n",
    "print(abc_song_data[0])"
   ]
  },
  {
   "cell_type": "markdown",
   "id": "2cf2120a",
   "metadata": {},
   "source": [
    "### Process the data for the learning task\n",
    "<p>\n",
    "    To use an RNN for music generation, we need to convert the string representation of our .abc dataset into a large numeric \n",
    "    vector. This is necessary because the character sequences of this vector will later be fed into the model to train it for \n",
    "    output prediction.\n",
    "    <br>\n",
    "    For this purpose, we will first combine the list of songs into a single string. Then we will create a vocabulary that will \n",
    "    help us convert the combined string into a numeric vector. More about this in the following steps.\n",
    "</p>"
   ]
  },
  {
   "cell_type": "code",
   "execution_count": 4,
   "id": "c4075696",
   "metadata": {},
   "outputs": [],
   "source": [
    "# combine all songs into a single string\n",
    "\n",
    "joined_songs = \"\\n\\n\".join(abc_song_data)"
   ]
  },
  {
   "cell_type": "markdown",
   "id": "c6c48033",
   "metadata": {},
   "source": [
    "<p>\n",
    "    In the next step of preprocessing our data, we need to create a mapping for all unique characters. This is necessary because \n",
    "    we need to vectorize our joined string into a numeric representation. Therefore, we will create a dictionary called \n",
    "    \"vocabulary\" in which all unique characters are mapped to an integer.\n",
    "</p>"
   ]
  },
  {
   "cell_type": "code",
   "execution_count": 5,
   "id": "231498f1",
   "metadata": {},
   "outputs": [],
   "source": [
    "vocabulary = utils.get_vocabulary(joined_songs)"
   ]
  },
  {
   "cell_type": "code",
   "execution_count": 6,
   "id": "3be6c7d0",
   "metadata": {
    "scrolled": true
   },
   "outputs": [
    {
     "name": "stdout",
     "output_type": "stream",
     "text": [
      "Length of vocabulary: 83\n",
      "\n",
      "Showing the first entries of the vocabulary:\n",
      "'\\n' ---> 0\n",
      "' ' ---> 1\n",
      "'!' ---> 2\n",
      "'\"' ---> 3\n",
      "'#' ---> 4\n",
      "...\n"
     ]
    }
   ],
   "source": [
    "# Some useful information about the created vocabulary\n",
    "\n",
    "print(\"Length of vocabulary:\", len(vocabulary))\n",
    "print(\"\\nShowing the first entries of the vocabulary:\")\n",
    "\n",
    "for i in range(5):\n",
    "    items = list(vocabulary.items())\n",
    "    print(\"{} ---> {}\".format(repr(items[i][0]), items[i][1]))\n",
    "print(\"...\")"
   ]
  },
  {
   "cell_type": "markdown",
   "id": "e24edc5e",
   "metadata": {},
   "source": [
    "<p>\n",
    "    Now we can create our numerical representation of the string:\n",
    "</p>"
   ]
  },
  {
   "cell_type": "code",
   "execution_count": 7,
   "id": "8e8907ce",
   "metadata": {},
   "outputs": [
    {
     "name": "stdout",
     "output_type": "stream",
     "text": [
      "The numerical song vector looks like this: [49 22 13 ... 22 82  2]\n"
     ]
    }
   ],
   "source": [
    "vectorized_songs = utils.string2numerical(joined_songs)\n",
    "\n",
    "print(\"The numerical song vector looks like this:\", vectorized_songs)"
   ]
  },
  {
   "cell_type": "markdown",
   "id": "db69c56c",
   "metadata": {},
   "source": [
    "<p>\n",
    "    Below, the first five lines of the first song in our dataset are presented numerically to provide a visual example of the\n",
    "    procedure:\n",
    "</p>"
   ]
  },
  {
   "cell_type": "code",
   "execution_count": 10,
   "id": "dcf87abf",
   "metadata": {
    "scrolled": true
   },
   "outputs": [
    {
     "name": "stdout",
     "output_type": "stream",
     "text": [
      "X:1\n",
      "T:Alexander's\n",
      "Z: id:dc-hornpipe-1\n",
      "M:C|\n",
      "L:1/8 \n",
      "\n",
      "[49 22 13]\n",
      "[45 22 26 67 60 79 56 69 59 60 73  5 74]\n",
      "[51 22  1 64 59 22 59 58  9 63 70 73 69 71 64 71 60  9 13]\n",
      "[38 22 28 82]\n",
      "[37 22 13 11 20]\n"
     ]
    }
   ],
   "source": [
    "first_song = abc_song_data[0]\n",
    "\n",
    "# create numerical representation of the first song\n",
    "string_row = first_song.split(\"\\n\")\n",
    "convert = []\n",
    "for i in string_row:\n",
    "    convert += [str(utils.string2numerical(i))]\n",
    "\n",
    "# print first 5 lines of each representation\n",
    "print(\"\\n\".join(first_song.split(\"\\n\")[:5]), \"\\n\")\n",
    "print(\"\\n\".join(convert[:5]))"
   ]
  },
  {
   "cell_type": "markdown",
   "id": "da9e0077",
   "metadata": {},
   "source": [
    "### Building the Recurrent Neural Network"
   ]
  },
  {
   "cell_type": "markdown",
   "id": "d862edf3",
   "metadata": {},
   "source": [
    "<p>\n",
    "    In this section, we will build a RNN and train it to learn the patterns of a song written in ABC notation, and then use this \n",
    "    model to generate never-before-heard music.\n",
    "    <br><br>\n",
    "    Breaking this down, what we're really asking the model is: given a character, or sequence of characters, what is the most \n",
    "    likely next character? We will train the model to perform this task.\n",
    "    <br><br>\n",
    "    At this point in the notebook, we have already put our data into a usable form. This means we can now move on to the next\n",
    "    step and create our training sequences and model ourselves.\n",
    "    <br><br>\n",
    "    As mentioned earlier, the RNN will use sequences/batches of song snippets from our vectorized songs in the training process.\n",
    "    To create these batches we will be using the \"create_batch\" function. This function creates an input sequence, also called\n",
    "    x_batch, and a corresponding target sequence, called y_batch, that our RNN must correctly predict.\n",
    "    <br><br>\n",
    "    These chunks have a certain size \"sequence_length\" and \"sequence_length+1\". For example, if our chosen text is \"hello\", our\n",
    "    x_batch is \"hell\" and our y_batch is \"ello\". Our RNN should then learn \n",
    "    to predict \"o\" as our next character given x_batch.\n",
    "</p>"
   ]
  },
  {
   "cell_type": "code",
   "execution_count": null,
   "id": "f65d91e7",
   "metadata": {},
   "outputs": [],
   "source": [
    "# a small example for a created batch:\n",
    "x_batch, y_batch = utils.create_batch(vectorized_songs[0:20], seq_length=5, batch_size=1)\n",
    "\n",
    "print(\"x_batch:\", x_batch[0], \"\\n    --->\", list(utils.numerical2string(x_batch[0])))\n",
    "print(\"\\ny_batch:\", y_batch[0], \"\\n    --->\", list(utils.numerical2string(y_batch[0])))"
   ]
  },
  {
   "cell_type": "markdown",
   "id": "7c2a898c",
   "metadata": {},
   "source": [
    "<p>\n",
    "    But how will our RNN process and learn from these generated stacks? For each of these vectors, each index is processed in a \n",
    "    single time step. So for our input at time step 0, the model will receive the index for the first character in the input \n",
    "    sequence and try to predict the index of the next character. This process is repeated for each upcoming time step, but in \n",
    "    addition to the current input, the RNN also considers the information from the previous step, i.e., its updated state.\n",
    "</p>"
   ]
  },
  {
   "cell_type": "code",
   "execution_count": null,
   "id": "7d906454",
   "metadata": {},
   "outputs": [],
   "source": [
    "# below you can see how this works over the first characters in our text:\n",
    "\n",
    "for i, (input_index, target_index) in enumerate(zip(x_batch[0], y_batch[0])):\n",
    "    print(\"Step:\", i)\n",
    "    print(\"      input:\", input_index, \"('{}')\".format(utils.numerical2string([int(input_index)])))\n",
    "    print(\"      target:\", target_index, \"('{}')\".format(utils.numerical2string([int(target_index)])))"
   ]
  },
  {
   "cell_type": "markdown",
   "id": "5c50f63b",
   "metadata": {},
   "source": [
    "<p>\n",
    "    <u>Now we can finally create a new model or load an old model from saved checkpoints:</u>\n",
    "    <br><br>\n",
    "    This model will be based on the LSTM architecture, where we use a state vector to obtain information about the temporal \n",
    "    relationships between successive characters (example shown above). The final output of the LSTM will then be fed into a \n",
    "    fully connected dense layer, where we output a softmax over each character in the vocabulary and then sample from this \n",
    "    distribution to predict the next character. \n",
    "</p>\n",
    "<p>\n",
    "    Three layers are used to define the model:\n",
    "    <ul>\n",
    "        <li>Layer 1: Embedding layer to transform indices into dense vectors of a fixed embedding size</li>\n",
    "        <li>Layer 2: LSTM network with 'rnn_units' number of units</li>\n",
    "        <li>Layer 3: Dense (fully-connected) layer that transforms the LSTM output into the vocabulary size</li>\n",
    "    </ul>\n",
    "</p>\n",
    "<br>\n",
    "<p>\n",
    "    Let's start by defining some hyperparameters for training the model:\n",
    "</p>"
   ]
  },
  {
   "cell_type": "code",
   "execution_count": null,
   "id": "6c502516",
   "metadata": {},
   "outputs": [],
   "source": [
    "### Hyperparameter settings and optimization ###\n",
    "\n",
    "# optimization:\n",
    "num_iterations = 2000\n",
    "batch_size = 1\n",
    "seq_length = 200\n",
    "learning_rate = 2e-3\n",
    "\n",
    "# model parameters:\n",
    "vocabulary_size = len(vocabulary)\n",
    "embedding_dim = 256\n",
    "rnn_units = 1536\n",
    "\n",
    "# checkpoint location:\n",
    "checkpoint_dir = './training_checkpoints'\n",
    "checkpoint_prefix = os.path.join(checkpoint_dir, \"ckpt\")"
   ]
  },
  {
   "cell_type": "code",
   "execution_count": null,
   "id": "54708bcb",
   "metadata": {},
   "outputs": [],
   "source": [
    "# call the following function to instantiate the model\n",
    "\n",
    "model = utils.build_model(vocabulary_size, \n",
    "                    embedding_dim, \n",
    "                    rnn_units, \n",
    "                    batch_size)\n",
    "\n",
    "optimizer = tf.keras.optimizers.Adam(learning_rate)\n",
    "\n",
    "model.summary()"
   ]
  },
  {
   "cell_type": "markdown",
   "id": "c5ef8efc",
   "metadata": {},
   "source": [
    "<p>\n",
    "    Now we can train this model with our preprocessed data. Just uncomment the cell below if you want to train a new model.\n",
    "    <br><br>\n",
    "    Caution: This deletes the old model! Change the name of the control point or save the files to keep the model!\n",
    "</p>"
   ]
  },
  {
   "cell_type": "code",
   "execution_count": null,
   "id": "60fb3e3c",
   "metadata": {},
   "outputs": [],
   "source": [
    "# only use this function if you want to train a new model, else load a pretrained model below\n",
    "\n",
    "#utils.train_model(num_iterations, vectorized_songs, seq_length, batch_size, model, optimizer, checkpoint_prefix, plot_loss=True)"
   ]
  },
  {
   "cell_type": "markdown",
   "id": "5a38cc37",
   "metadata": {},
   "source": [
    "<p>\n",
    "    Run this cell to load a existing model for faster music generation:\n",
    "</p>"
   ]
  },
  {
   "cell_type": "code",
   "execution_count": null,
   "id": "fe9f71d4",
   "metadata": {},
   "outputs": [],
   "source": [
    "# Restore the model weights for the last checkpoint after training\n",
    "\n",
    "model.load_weights(tf.train.latest_checkpoint(checkpoint_dir))\n",
    "model.build(tf.TensorShape([batch_size, None]))\n",
    "\n",
    "model.summary()"
   ]
  },
  {
   "cell_type": "markdown",
   "id": "63dd5170",
   "metadata": {},
   "source": [
    "<p>\n",
    "    But how does the prediction procedure with our completely trained model work?\n",
    "    <ol>\n",
    "        <li>Initialization of a start string (here 'X') and an RNN state as well as specification of the number of characters to\n",
    "            be generated.</li>\n",
    "        <li>Use the starting string and RNN state to obtain the probability distribution for the next predicted character.</li>\n",
    "        <li>Sample from the multinomial distribution to calculate the index of the predicted character. This predicted character\n",
    "            is then used as the next input to the model.</li>\n",
    "        <li>At each time step, the updated RNN state is fed back into the model so that it now has more context for the next\n",
    "            prediction. After the next character is predicted, the updated RNN states are again fed into the model. In this way,\n",
    "            it learns the sequence dependencies in the data as it gets more information from the previous predictions.</li>\n",
    "    </ol>\n",
    "</p>"
   ]
  },
  {
   "cell_type": "markdown",
   "id": "3a661d5f",
   "metadata": {},
   "source": [
    "### Generate music using the RNN model"
   ]
  },
  {
   "cell_type": "markdown",
   "id": "34d82e01",
   "metadata": {},
   "source": [
    "<p>\n",
    "    In this section we can use our trained model for music generation. Generated songs will be saved in the \"songs\" file in \n",
    "    this repository.\n",
    "</p>\n",
    "<p>\n",
    "    <ul>\n",
    "        <li>Song Count: Number of that will be created</li>\n",
    "        <li>Generation Length: Number of characters we want to generate</li>\n",
    "        <li>Print ABC: Show the ABC-Notation of the created song</li>\n",
    "    </ul>\n",
    "</p>"
   ]
  },
  {
   "cell_type": "code",
   "execution_count": null,
   "id": "bc7ec488",
   "metadata": {
    "scrolled": true
   },
   "outputs": [],
   "source": [
    "songs = utils.generate_songs(model, songcount=3, generation_length=500)"
   ]
  },
  {
   "cell_type": "code",
   "execution_count": null,
   "id": "33c11970",
   "metadata": {
    "scrolled": true
   },
   "outputs": [],
   "source": [
    "utils.play_generated_songs(songs, print_abc=True)"
   ]
  },
  {
   "cell_type": "markdown",
   "id": "9a6806bf",
   "metadata": {},
   "source": [
    "<p>\n",
    "    Some more useful functions for playing, listing and deleting songs.\n",
    "    <br>\n",
    "    You just have to uncomment these to use them.\n",
    "</p>"
   ]
  },
  {
   "cell_type": "code",
   "execution_count": null,
   "id": "8fc050cc",
   "metadata": {},
   "outputs": [],
   "source": [
    "# this function simply lists all of created songs from the songs directory:\n",
    "\n",
    "#utils.show_songs()"
   ]
  },
  {
   "cell_type": "code",
   "execution_count": null,
   "id": "67ba32f3",
   "metadata": {},
   "outputs": [],
   "source": [
    "# use this function to play a specific song without creating new ones\n",
    "# just type in a songnumber to hear the song:\n",
    "\n",
    "# utils.play_song(songnumber=1)"
   ]
  },
  {
   "cell_type": "code",
   "execution_count": null,
   "id": "cfa6f493",
   "metadata": {},
   "outputs": [],
   "source": [
    "# this funciton deletes all songs in the song directory\n",
    "# just uncomment and run this function to delete everything:\n",
    "\n",
    "#utils.delete_songs()"
   ]
  },
  {
   "cell_type": "code",
   "execution_count": null,
   "id": "6dec556a",
   "metadata": {},
   "outputs": [],
   "source": []
  }
 ],
 "metadata": {
  "kernelspec": {
   "display_name": "Python 3 (ipykernel)",
   "language": "python",
   "name": "python3"
  },
  "language_info": {
   "codemirror_mode": {
    "name": "ipython",
    "version": 3
   },
   "file_extension": ".py",
   "mimetype": "text/x-python",
   "name": "python",
   "nbconvert_exporter": "python",
   "pygments_lexer": "ipython3",
   "version": "3.8.16"
  }
 },
 "nbformat": 4,
 "nbformat_minor": 5
}
